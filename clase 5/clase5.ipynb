{
 "cells": [
  {
   "cell_type": "code",
   "execution_count": 2,
   "metadata": {},
   "outputs": [],
   "source": [
    "import pandas as pd\n",
    "\n",
    "import pandasql as ps\n",
    "\n",
    "def pysqldf(q):\n",
    "    return ps.sqldf(q, globals())"
   ]
  },
  {
   "cell_type": "code",
   "execution_count": 24,
   "metadata": {},
   "outputs": [],
   "source": [
    "# extraccion de los datos\n",
    "\n",
    "clientes = pd.read_csv('cliente.csv', sep=';')\n",
    "facturas = pd.read_csv('factura.csv', sep=';')\n",
    "despachos = pd.read_csv('despacho.csv', sep=';')\n",
    "recogidas = pd.read_csv('recogida.csv', sep=';')\n",
    "lotes = pd.read_csv('lote.csv', sep=';')\n",
    "fincas = pd.read_csv('finca.csv', sep=';')\n",
    "cultivos = pd.read_csv('cultivo.csv', sep=';')\n",
    "precios = pd.read_csv('precio.csv', sep=';')"
   ]
  },
  {
   "cell_type": "code",
   "execution_count": null,
   "metadata": {},
   "outputs": [],
   "source": [
    "# 0. realizar un análisis exploratorio de los datos"
   ]
  },
  {
   "cell_type": "code",
   "execution_count": 8,
   "metadata": {},
   "outputs": [
    {
     "name": "stdout",
     "output_type": "stream",
     "text": [
      "<class 'pandas.core.frame.DataFrame'>\n",
      "RangeIndex: 17 entries, 0 to 16\n",
      "Data columns (total 2 columns):\n",
      " #   Column  Non-Null Count  Dtype \n",
      "---  ------  --------------  ----- \n",
      " 0   id      17 non-null     object\n",
      " 1   nombre  17 non-null     object\n",
      "dtypes: object(2)\n",
      "memory usage: 404.0+ bytes\n"
     ]
    }
   ],
   "source": [
    "clientes.head()\n",
    "clientes.info()"
   ]
  },
  {
   "cell_type": "code",
   "execution_count": 10,
   "metadata": {},
   "outputs": [
    {
     "name": "stdout",
     "output_type": "stream",
     "text": [
      "<class 'pandas.core.frame.DataFrame'>\n",
      "RangeIndex: 349 entries, 0 to 348\n",
      "Data columns (total 3 columns):\n",
      " #   Column  Non-Null Count  Dtype  \n",
      "---  ------  --------------  -----  \n",
      " 0   id      349 non-null    object \n",
      " 1   fecha   349 non-null    object \n",
      " 2   total   349 non-null    float64\n",
      "dtypes: float64(1), object(2)\n",
      "memory usage: 8.3+ KB\n"
     ]
    }
   ],
   "source": [
    "facturas.head()\n",
    "facturas.info()"
   ]
  },
  {
   "cell_type": "code",
   "execution_count": 14,
   "metadata": {},
   "outputs": [
    {
     "data": {
      "text/plain": [
       "id              0\n",
       "fecha           0\n",
       "id_cliente      0\n",
       "id_factura    529\n",
       "dtype: int64"
      ]
     },
     "execution_count": 14,
     "metadata": {},
     "output_type": "execute_result"
    }
   ],
   "source": [
    "despachos.isnull().sum()"
   ]
  },
  {
   "cell_type": "code",
   "execution_count": 16,
   "metadata": {},
   "outputs": [
    {
     "name": "stdout",
     "output_type": "stream",
     "text": [
      "<class 'pandas.core.frame.DataFrame'>\n",
      "RangeIndex: 1000000 entries, 0 to 999999\n",
      "Data columns (total 6 columns):\n",
      " #   Column       Non-Null Count    Dtype  \n",
      "---  ------       --------------    -----  \n",
      " 0   id           1000000 non-null  object \n",
      " 1   fecha        1000000 non-null  object \n",
      " 2   id_lote      1000000 non-null  object \n",
      " 3   cantidad     1000000 non-null  float64\n",
      " 4   id_usuario   1000000 non-null  object \n",
      " 5   id_despacho  967284 non-null   object \n",
      "dtypes: float64(1), object(5)\n",
      "memory usage: 45.8+ MB\n"
     ]
    }
   ],
   "source": [
    "recogidas.info()"
   ]
  },
  {
   "cell_type": "code",
   "execution_count": 17,
   "metadata": {},
   "outputs": [
    {
     "data": {
      "text/plain": [
       "id                 0\n",
       "fecha              0\n",
       "id_lote            0\n",
       "cantidad           0\n",
       "id_usuario         0\n",
       "id_despacho    32716\n",
       "dtype: int64"
      ]
     },
     "execution_count": 17,
     "metadata": {},
     "output_type": "execute_result"
    }
   ],
   "source": [
    "recogidas.isnull().sum()"
   ]
  },
  {
   "cell_type": "code",
   "execution_count": 19,
   "metadata": {},
   "outputs": [
    {
     "name": "stdout",
     "output_type": "stream",
     "text": [
      "<class 'pandas.core.frame.DataFrame'>\n",
      "RangeIndex: 48 entries, 0 to 47\n",
      "Data columns (total 4 columns):\n",
      " #   Column      Non-Null Count  Dtype \n",
      "---  ------      --------------  ----- \n",
      " 0   id          48 non-null     object\n",
      " 1   nombre      48 non-null     object\n",
      " 2   id_finca    48 non-null     object\n",
      " 3   id_cultivo  48 non-null     object\n",
      "dtypes: object(4)\n",
      "memory usage: 1.6+ KB\n"
     ]
    }
   ],
   "source": [
    "lotes.info()"
   ]
  },
  {
   "cell_type": "code",
   "execution_count": 21,
   "metadata": {},
   "outputs": [
    {
     "name": "stdout",
     "output_type": "stream",
     "text": [
      "<class 'pandas.core.frame.DataFrame'>\n",
      "RangeIndex: 5 entries, 0 to 4\n",
      "Data columns (total 2 columns):\n",
      " #   Column  Non-Null Count  Dtype \n",
      "---  ------  --------------  ----- \n",
      " 0   id      5 non-null      object\n",
      " 1   nombre  5 non-null      object\n",
      "dtypes: object(2)\n",
      "memory usage: 212.0+ bytes\n"
     ]
    }
   ],
   "source": [
    "fincas.info()"
   ]
  },
  {
   "cell_type": "code",
   "execution_count": 23,
   "metadata": {},
   "outputs": [
    {
     "name": "stdout",
     "output_type": "stream",
     "text": [
      "<class 'pandas.core.frame.DataFrame'>\n",
      "RangeIndex: 10 entries, 0 to 9\n",
      "Data columns (total 2 columns):\n",
      " #   Column  Non-Null Count  Dtype \n",
      "---  ------  --------------  ----- \n",
      " 0   id      10 non-null     object\n",
      " 1   nombre  10 non-null     object\n",
      "dtypes: object(2)\n",
      "memory usage: 292.0+ bytes\n"
     ]
    }
   ],
   "source": [
    "cultivos.info()"
   ]
  },
  {
   "cell_type": "code",
   "execution_count": 25,
   "metadata": {},
   "outputs": [
    {
     "name": "stdout",
     "output_type": "stream",
     "text": [
      "<class 'pandas.core.frame.DataFrame'>\n",
      "RangeIndex: 340 entries, 0 to 339\n",
      "Data columns (total 4 columns):\n",
      " #   Column      Non-Null Count  Dtype  \n",
      "---  ------      --------------  -----  \n",
      " 0   id          340 non-null    object \n",
      " 1   id_cultivo  340 non-null    object \n",
      " 2   valor       340 non-null    float64\n",
      " 3   fecha       340 non-null    object \n",
      "dtypes: float64(1), object(3)\n",
      "memory usage: 10.8+ KB\n"
     ]
    }
   ],
   "source": [
    "precios.info()"
   ]
  },
  {
   "cell_type": "code",
   "execution_count": null,
   "metadata": {},
   "outputs": [],
   "source": [
    "# 1. calcular la cantidad despachada por cada finca por mes"
   ]
  },
  {
   "cell_type": "code",
   "execution_count": null,
   "metadata": {},
   "outputs": [],
   "source": [
    "# 2. calcular la cantidad recogida por cultivo por mes"
   ]
  },
  {
   "cell_type": "code",
   "execution_count": null,
   "metadata": {},
   "outputs": [],
   "source": [
    "# 3. calcular la cantidad recogida por cultivo por finca"
   ]
  },
  {
   "cell_type": "code",
   "execution_count": null,
   "metadata": {},
   "outputs": [],
   "source": [
    "# 4. calcular un comparativo mes por mes de la cantidad total despachada entre los años 2021, 2022 y 2023"
   ]
  },
  {
   "cell_type": "code",
   "execution_count": null,
   "metadata": {},
   "outputs": [],
   "source": [
    "# 5. calcular el ingreso total por finca. El ingreso total se calcula como la cantidad despachada por el precio que tenía ese cultivo en el mes que se hizo la recogida."
   ]
  }
 ],
 "metadata": {
  "kernelspec": {
   "display_name": ".venv",
   "language": "python",
   "name": "python3"
  },
  "language_info": {
   "codemirror_mode": {
    "name": "ipython",
    "version": 3
   },
   "file_extension": ".py",
   "mimetype": "text/x-python",
   "name": "python",
   "nbconvert_exporter": "python",
   "pygments_lexer": "ipython3",
   "version": "3.12.6"
  }
 },
 "nbformat": 4,
 "nbformat_minor": 2
}
